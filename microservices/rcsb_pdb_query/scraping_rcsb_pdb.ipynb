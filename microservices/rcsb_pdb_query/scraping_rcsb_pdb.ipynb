{
 "cells": [
  {
   "cell_type": "code",
   "execution_count": 8,
   "id": "initial_id",
   "metadata": {
    "collapsed": true,
    "ExecuteTime": {
     "end_time": "2024-05-01T21:06:54.581342Z",
     "start_time": "2024-05-01T21:06:52.101595Z"
    }
   },
   "outputs": [
    {
     "name": "stdout",
     "output_type": "stream",
     "text": [
      "Collecting lxml\r\n",
      "  Obtaining dependency information for lxml from https://files.pythonhosted.org/packages/43/43/66a84c2a034f5df2782240cb2f68696a72ad6734d7a91f824e0360cde08b/lxml-5.2.1-cp311-cp311-macosx_10_9_universal2.whl.metadata\r\n",
      "  Downloading lxml-5.2.1-cp311-cp311-macosx_10_9_universal2.whl.metadata (3.4 kB)\r\n",
      "Downloading lxml-5.2.1-cp311-cp311-macosx_10_9_universal2.whl (8.5 MB)\r\n",
      "\u001B[2K   \u001B[90m━━━━━━━━━━━━━━━━━━━━━━━━━━━━━━━━━━━━━━━━\u001B[0m \u001B[32m8.5/8.5 MB\u001B[0m \u001B[31m7.3 MB/s\u001B[0m eta \u001B[36m0:00:00\u001B[0m00:01\u001B[0m00:01\u001B[0m\r\n",
      "\u001B[?25hInstalling collected packages: lxml\r\n",
      "Successfully installed lxml-5.2.1\r\n",
      "\r\n",
      "\u001B[1m[\u001B[0m\u001B[34;49mnotice\u001B[0m\u001B[1;39;49m]\u001B[0m\u001B[39;49m A new release of pip is available: \u001B[0m\u001B[31;49m23.2.1\u001B[0m\u001B[39;49m -> \u001B[0m\u001B[32;49m24.0\u001B[0m\r\n",
      "\u001B[1m[\u001B[0m\u001B[34;49mnotice\u001B[0m\u001B[1;39;49m]\u001B[0m\u001B[39;49m To update, run: \u001B[0m\u001B[32;49mpip install --upgrade pip\u001B[0m\r\n"
     ]
    }
   ],
   "source": [
    "!pip install lxml"
   ]
  },
  {
   "cell_type": "code",
   "outputs": [
    {
     "name": "stderr",
     "output_type": "stream",
     "text": [
      "/var/folders/0w/xhdsyyrx6v1g86k7g8g57_340000gn/T/ipykernel_33337/1033188154.py:16: FutureWarning: Passing literal html to 'read_html' is deprecated and will be removed in a future version. To read from a literal string, wrap it in a 'StringIO' object.\n",
      "  df = pd.read_html(driver.page_source, attrs={'id': 'search-attributes-table'})[0]\n"
     ]
    },
    {
     "name": "stdout",
     "output_type": "stream",
     "text": [
      "CSV file has been created successfully.\n"
     ]
    }
   ],
   "source": [
    "from selenium import webdriver\n",
    "import pandas as pd\n",
    "import time\n",
    "\n",
    "# Set up the WebDriver\n",
    "driver = webdriver.Chrome()\n",
    "\n",
    "# URL of the page\n",
    "url = 'https://search.rcsb.org/structure-search-attributes.html'\n",
    "\n",
    "# Load the page\n",
    "driver.get(url)\n",
    "time.sleep(5)  # Wait for JavaScript to load\n",
    "\n",
    "# Extract the table into pandas\n",
    "df = pd.read_html(driver.page_source, attrs={'id': 'search-attributes-table'})[0]\n",
    "\n",
    "# Save to CSV\n",
    "df.to_csv('RCSB_Search_Attributes.csv', index=False)\n",
    "\n",
    "# Close the driver\n",
    "driver.quit()\n",
    "\n",
    "print(\"CSV file has been created successfully.\")"
   ],
   "metadata": {
    "collapsed": false,
    "ExecuteTime": {
     "end_time": "2024-05-01T21:07:05.872048Z",
     "start_time": "2024-05-01T21:06:58.713382Z"
    }
   },
   "id": "a679ae079bdfaecd",
   "execution_count": 9
  },
  {
   "cell_type": "code",
   "outputs": [],
   "source": [
    "filtered_df = df[df['Attribute'].str.startswith('rcsb_entry_info')]"
   ],
   "metadata": {
    "collapsed": false,
    "ExecuteTime": {
     "end_time": "2024-05-01T21:13:37.257296Z",
     "start_time": "2024-05-01T21:13:37.250114Z"
    }
   },
   "id": "5f1b70837c63e57d",
   "execution_count": 18
  },
  {
   "cell_type": "code",
   "outputs": [
    {
     "data": {
      "text/plain": "                                             Attribute     Type  \\\n269                     rcsb_entry_info.assembly_count  integer   \n270              rcsb_entry_info.branched_entity_count  integer   \n271                  rcsb_entry_info.cis_peptide_count  integer   \n272               rcsb_entry_info.deposited_atom_count  integer   \n273   rcsb_entry_info.deposited_deuterated_water_count  integer   \n274      rcsb_entry_info.deposited_hydrogen_atom_count  integer   \n275              rcsb_entry_info.deposited_model_count  integer   \n276  rcsb_entry_info.deposited_modeled_polymer_mono...  integer   \n277  rcsb_entry_info.deposited_nonpolymer_entity_in...  integer   \n278  rcsb_entry_info.deposited_polymer_entity_insta...  integer   \n279    rcsb_entry_info.deposited_polymer_monomer_count  integer   \n280       rcsb_entry_info.deposited_solvent_atom_count  integer   \n281  rcsb_entry_info.deposited_unmodeled_polymer_mo...  integer   \n282  rcsb_entry_info.diffrn_radiation_wavelength_ma...   number   \n283  rcsb_entry_info.diffrn_radiation_wavelength_mi...   number   \n284               rcsb_entry_info.disulfide_bond_count  integer   \n285                       rcsb_entry_info.entity_count  integer   \n286                rcsb_entry_info.experimental_method   string   \n287          rcsb_entry_info.experimental_method_count  integer   \n288      rcsb_entry_info.inter_mol_covalent_bond_count  integer   \n289       rcsb_entry_info.inter_mol_metalic_bond_count  integer   \n290                   rcsb_entry_info.molecular_weight   number   \n291            rcsb_entry_info.na_polymer_entity_types   string   \n292            rcsb_entry_info.nonpolymer_entity_count  integer   \n293  rcsb_entry_info.nonpolymer_molecular_weight_ma...   number   \n294  rcsb_entry_info.nonpolymer_molecular_weight_mi...   number   \n295                rcsb_entry_info.polymer_composition   string   \n296               rcsb_entry_info.polymer_entity_count  integer   \n297           rcsb_entry_info.polymer_entity_count_DNA  integer   \n298           rcsb_entry_info.polymer_entity_count_RNA  integer   \n299  rcsb_entry_info.polymer_entity_count_nucleic_acid  integer   \n300  rcsb_entry_info.polymer_entity_count_nucleic_a...  integer   \n301       rcsb_entry_info.polymer_entity_count_protein  integer   \n302      rcsb_entry_info.polymer_entity_taxonomy_count  integer   \n303   rcsb_entry_info.polymer_molecular_weight_maximum   number   \n304   rcsb_entry_info.polymer_molecular_weight_minimum   number   \n305      rcsb_entry_info.polymer_monomer_count_maximum  integer   \n306      rcsb_entry_info.polymer_monomer_count_minimum  integer   \n307                rcsb_entry_info.resolution_combined   number   \n308      rcsb_entry_info.selected_polymer_entity_types   string   \n309         rcsb_entry_info.software_programs_combined   string   \n310               rcsb_entry_info.solvent_entity_count  integer   \n311  rcsb_entry_info.structure_determination_method...   string   \n312  rcsb_entry_info.structure_determination_method...  integer   \n313       rcsb_entry_info.diffrn_resolution_high.value   number   \n\n                                             Operators  \\\n269  equals greater less greater_or_equal less_or_e...   \n270  equals greater less greater_or_equal less_or_e...   \n271  equals greater less greater_or_equal less_or_e...   \n272  equals greater less greater_or_equal less_or_e...   \n273  equals greater less greater_or_equal less_or_e...   \n274  equals greater less greater_or_equal less_or_e...   \n275  equals greater less greater_or_equal less_or_e...   \n276  equals greater less greater_or_equal less_or_e...   \n277  equals greater less greater_or_equal less_or_e...   \n278  equals greater less greater_or_equal less_or_e...   \n279  equals greater less greater_or_equal less_or_e...   \n280  equals greater less greater_or_equal less_or_e...   \n281  equals greater less greater_or_equal less_or_e...   \n282  equals greater less greater_or_equal less_or_e...   \n283  equals greater less greater_or_equal less_or_e...   \n284  equals greater less greater_or_equal less_or_e...   \n285  equals greater less greater_or_equal less_or_e...   \n286                              in exact_match exists   \n287  equals greater less greater_or_equal less_or_e...   \n288  equals greater less greater_or_equal less_or_e...   \n289  equals greater less greater_or_equal less_or_e...   \n290  equals greater less greater_or_equal less_or_e...   \n291                              in exact_match exists   \n292  equals greater less greater_or_equal less_or_e...   \n293  equals greater less greater_or_equal less_or_e...   \n294  equals greater less greater_or_equal less_or_e...   \n295                              in exact_match exists   \n296  equals greater less greater_or_equal less_or_e...   \n297  equals greater less greater_or_equal less_or_e...   \n298  equals greater less greater_or_equal less_or_e...   \n299  equals greater less greater_or_equal less_or_e...   \n300  equals greater less greater_or_equal less_or_e...   \n301  equals greater less greater_or_equal less_or_e...   \n302  equals greater less greater_or_equal less_or_e...   \n303  equals greater less greater_or_equal less_or_e...   \n304  equals greater less greater_or_equal less_or_e...   \n305  equals greater less greater_or_equal less_or_e...   \n306  equals greater less greater_or_equal less_or_e...   \n307  equals greater less greater_or_equal less_or_e...   \n308                              in exact_match exists   \n309                              in exact_match exists   \n310  equals greater less greater_or_equal less_or_e...   \n311                              in exact_match exists   \n312  equals greater less greater_or_equal less_or_e...   \n313  equals greater less greater_or_equal less_or_e...   \n\n                                           Description  \n269  The number of assemblies defined for this entr...  \n270  The number of distinct branched entities in th...  \n271  The number of cis-peptide linkages per deposit...  \n272  The number of heavy atom coordinates records p...  \n273  The number of deuterated water molecules per d...  \n274  The number of hydrogen atom coordinates record...  \n275          The number of model structures deposited.  \n276  The number of modeled polymer monomers in the ...  \n277  The number of non-polymer instances in the dep...  \n278  The number of polymer instances in the deposit...  \n279  The number of polymer monomers in sample entit...  \n280  The number of heavy solvent atom coordinates r...  \n281  The number of unmodeled polymer monomers in th...  \n282     The maximum radiation wavelength in angstroms.  \n283     The minimum radiation wavelength in angstroms.  \n284  The number of disulfide bonds per deposited st...  \n285  The number of distinct polymer, non-polymer, b...  \n286  The category of experimental method(s) used to...  \n287  The number of experimental methods contributin...  \n288       The number of intermolecular covalent bonds.  \n289        The number of intermolecular metalic bonds.  \n290  The molecular mass (KDa) of polymer and non-po...  \n291  Nucleic acid polymer entity type categories de...  \n292  The number of distinct non-polymer entities in...  \n293  The maximum molecular mass (KDa) of a non-poly...  \n294  The minimum molecular mass (KDa) of a non-poly...  \n295  Categories describing the polymer entity compo...  \n296  The number of distinct polymer entities in the...  \n297       The number of distinct DNA polymer entities.  \n298       The number of distinct RNA polymer entities.  \n299  The number of distinct nucleic acid polymer en...  \n300  The number of distinct hybrid nucleic acid pol...  \n301   The number of distinct protein polymer entities.  \n302  The number of distinct taxonomies represented ...  \n303  The maximum molecular mass (KDa) of a polymer ...  \n304  The minimum molecular mass (KDa) of a polymer ...  \n305  The maximum monomer count of a polymer entity ...  \n306  The minimum monomer count of a polymer entity ...  \n307  Combined estimates of experimental resolution ...  \n308  Selected polymer entity type categories descri...  \n309  Combined list of software programs names repor...  \n310  The number of distinct solvent entities per de...  \n311  Indicates if the structure was determined usin...  \n312  Indicates the priority of the value in _rcsb_e...  \n313      The high resolution limit of data collection.  ",
      "text/html": "<div>\n<style scoped>\n    .dataframe tbody tr th:only-of-type {\n        vertical-align: middle;\n    }\n\n    .dataframe tbody tr th {\n        vertical-align: top;\n    }\n\n    .dataframe thead th {\n        text-align: right;\n    }\n</style>\n<table border=\"1\" class=\"dataframe\">\n  <thead>\n    <tr style=\"text-align: right;\">\n      <th></th>\n      <th>Attribute</th>\n      <th>Type</th>\n      <th>Operators</th>\n      <th>Description</th>\n    </tr>\n  </thead>\n  <tbody>\n    <tr>\n      <th>269</th>\n      <td>rcsb_entry_info.assembly_count</td>\n      <td>integer</td>\n      <td>equals greater less greater_or_equal less_or_e...</td>\n      <td>The number of assemblies defined for this entr...</td>\n    </tr>\n    <tr>\n      <th>270</th>\n      <td>rcsb_entry_info.branched_entity_count</td>\n      <td>integer</td>\n      <td>equals greater less greater_or_equal less_or_e...</td>\n      <td>The number of distinct branched entities in th...</td>\n    </tr>\n    <tr>\n      <th>271</th>\n      <td>rcsb_entry_info.cis_peptide_count</td>\n      <td>integer</td>\n      <td>equals greater less greater_or_equal less_or_e...</td>\n      <td>The number of cis-peptide linkages per deposit...</td>\n    </tr>\n    <tr>\n      <th>272</th>\n      <td>rcsb_entry_info.deposited_atom_count</td>\n      <td>integer</td>\n      <td>equals greater less greater_or_equal less_or_e...</td>\n      <td>The number of heavy atom coordinates records p...</td>\n    </tr>\n    <tr>\n      <th>273</th>\n      <td>rcsb_entry_info.deposited_deuterated_water_count</td>\n      <td>integer</td>\n      <td>equals greater less greater_or_equal less_or_e...</td>\n      <td>The number of deuterated water molecules per d...</td>\n    </tr>\n    <tr>\n      <th>274</th>\n      <td>rcsb_entry_info.deposited_hydrogen_atom_count</td>\n      <td>integer</td>\n      <td>equals greater less greater_or_equal less_or_e...</td>\n      <td>The number of hydrogen atom coordinates record...</td>\n    </tr>\n    <tr>\n      <th>275</th>\n      <td>rcsb_entry_info.deposited_model_count</td>\n      <td>integer</td>\n      <td>equals greater less greater_or_equal less_or_e...</td>\n      <td>The number of model structures deposited.</td>\n    </tr>\n    <tr>\n      <th>276</th>\n      <td>rcsb_entry_info.deposited_modeled_polymer_mono...</td>\n      <td>integer</td>\n      <td>equals greater less greater_or_equal less_or_e...</td>\n      <td>The number of modeled polymer monomers in the ...</td>\n    </tr>\n    <tr>\n      <th>277</th>\n      <td>rcsb_entry_info.deposited_nonpolymer_entity_in...</td>\n      <td>integer</td>\n      <td>equals greater less greater_or_equal less_or_e...</td>\n      <td>The number of non-polymer instances in the dep...</td>\n    </tr>\n    <tr>\n      <th>278</th>\n      <td>rcsb_entry_info.deposited_polymer_entity_insta...</td>\n      <td>integer</td>\n      <td>equals greater less greater_or_equal less_or_e...</td>\n      <td>The number of polymer instances in the deposit...</td>\n    </tr>\n    <tr>\n      <th>279</th>\n      <td>rcsb_entry_info.deposited_polymer_monomer_count</td>\n      <td>integer</td>\n      <td>equals greater less greater_or_equal less_or_e...</td>\n      <td>The number of polymer monomers in sample entit...</td>\n    </tr>\n    <tr>\n      <th>280</th>\n      <td>rcsb_entry_info.deposited_solvent_atom_count</td>\n      <td>integer</td>\n      <td>equals greater less greater_or_equal less_or_e...</td>\n      <td>The number of heavy solvent atom coordinates r...</td>\n    </tr>\n    <tr>\n      <th>281</th>\n      <td>rcsb_entry_info.deposited_unmodeled_polymer_mo...</td>\n      <td>integer</td>\n      <td>equals greater less greater_or_equal less_or_e...</td>\n      <td>The number of unmodeled polymer monomers in th...</td>\n    </tr>\n    <tr>\n      <th>282</th>\n      <td>rcsb_entry_info.diffrn_radiation_wavelength_ma...</td>\n      <td>number</td>\n      <td>equals greater less greater_or_equal less_or_e...</td>\n      <td>The maximum radiation wavelength in angstroms.</td>\n    </tr>\n    <tr>\n      <th>283</th>\n      <td>rcsb_entry_info.diffrn_radiation_wavelength_mi...</td>\n      <td>number</td>\n      <td>equals greater less greater_or_equal less_or_e...</td>\n      <td>The minimum radiation wavelength in angstroms.</td>\n    </tr>\n    <tr>\n      <th>284</th>\n      <td>rcsb_entry_info.disulfide_bond_count</td>\n      <td>integer</td>\n      <td>equals greater less greater_or_equal less_or_e...</td>\n      <td>The number of disulfide bonds per deposited st...</td>\n    </tr>\n    <tr>\n      <th>285</th>\n      <td>rcsb_entry_info.entity_count</td>\n      <td>integer</td>\n      <td>equals greater less greater_or_equal less_or_e...</td>\n      <td>The number of distinct polymer, non-polymer, b...</td>\n    </tr>\n    <tr>\n      <th>286</th>\n      <td>rcsb_entry_info.experimental_method</td>\n      <td>string</td>\n      <td>in exact_match exists</td>\n      <td>The category of experimental method(s) used to...</td>\n    </tr>\n    <tr>\n      <th>287</th>\n      <td>rcsb_entry_info.experimental_method_count</td>\n      <td>integer</td>\n      <td>equals greater less greater_or_equal less_or_e...</td>\n      <td>The number of experimental methods contributin...</td>\n    </tr>\n    <tr>\n      <th>288</th>\n      <td>rcsb_entry_info.inter_mol_covalent_bond_count</td>\n      <td>integer</td>\n      <td>equals greater less greater_or_equal less_or_e...</td>\n      <td>The number of intermolecular covalent bonds.</td>\n    </tr>\n    <tr>\n      <th>289</th>\n      <td>rcsb_entry_info.inter_mol_metalic_bond_count</td>\n      <td>integer</td>\n      <td>equals greater less greater_or_equal less_or_e...</td>\n      <td>The number of intermolecular metalic bonds.</td>\n    </tr>\n    <tr>\n      <th>290</th>\n      <td>rcsb_entry_info.molecular_weight</td>\n      <td>number</td>\n      <td>equals greater less greater_or_equal less_or_e...</td>\n      <td>The molecular mass (KDa) of polymer and non-po...</td>\n    </tr>\n    <tr>\n      <th>291</th>\n      <td>rcsb_entry_info.na_polymer_entity_types</td>\n      <td>string</td>\n      <td>in exact_match exists</td>\n      <td>Nucleic acid polymer entity type categories de...</td>\n    </tr>\n    <tr>\n      <th>292</th>\n      <td>rcsb_entry_info.nonpolymer_entity_count</td>\n      <td>integer</td>\n      <td>equals greater less greater_or_equal less_or_e...</td>\n      <td>The number of distinct non-polymer entities in...</td>\n    </tr>\n    <tr>\n      <th>293</th>\n      <td>rcsb_entry_info.nonpolymer_molecular_weight_ma...</td>\n      <td>number</td>\n      <td>equals greater less greater_or_equal less_or_e...</td>\n      <td>The maximum molecular mass (KDa) of a non-poly...</td>\n    </tr>\n    <tr>\n      <th>294</th>\n      <td>rcsb_entry_info.nonpolymer_molecular_weight_mi...</td>\n      <td>number</td>\n      <td>equals greater less greater_or_equal less_or_e...</td>\n      <td>The minimum molecular mass (KDa) of a non-poly...</td>\n    </tr>\n    <tr>\n      <th>295</th>\n      <td>rcsb_entry_info.polymer_composition</td>\n      <td>string</td>\n      <td>in exact_match exists</td>\n      <td>Categories describing the polymer entity compo...</td>\n    </tr>\n    <tr>\n      <th>296</th>\n      <td>rcsb_entry_info.polymer_entity_count</td>\n      <td>integer</td>\n      <td>equals greater less greater_or_equal less_or_e...</td>\n      <td>The number of distinct polymer entities in the...</td>\n    </tr>\n    <tr>\n      <th>297</th>\n      <td>rcsb_entry_info.polymer_entity_count_DNA</td>\n      <td>integer</td>\n      <td>equals greater less greater_or_equal less_or_e...</td>\n      <td>The number of distinct DNA polymer entities.</td>\n    </tr>\n    <tr>\n      <th>298</th>\n      <td>rcsb_entry_info.polymer_entity_count_RNA</td>\n      <td>integer</td>\n      <td>equals greater less greater_or_equal less_or_e...</td>\n      <td>The number of distinct RNA polymer entities.</td>\n    </tr>\n    <tr>\n      <th>299</th>\n      <td>rcsb_entry_info.polymer_entity_count_nucleic_acid</td>\n      <td>integer</td>\n      <td>equals greater less greater_or_equal less_or_e...</td>\n      <td>The number of distinct nucleic acid polymer en...</td>\n    </tr>\n    <tr>\n      <th>300</th>\n      <td>rcsb_entry_info.polymer_entity_count_nucleic_a...</td>\n      <td>integer</td>\n      <td>equals greater less greater_or_equal less_or_e...</td>\n      <td>The number of distinct hybrid nucleic acid pol...</td>\n    </tr>\n    <tr>\n      <th>301</th>\n      <td>rcsb_entry_info.polymer_entity_count_protein</td>\n      <td>integer</td>\n      <td>equals greater less greater_or_equal less_or_e...</td>\n      <td>The number of distinct protein polymer entities.</td>\n    </tr>\n    <tr>\n      <th>302</th>\n      <td>rcsb_entry_info.polymer_entity_taxonomy_count</td>\n      <td>integer</td>\n      <td>equals greater less greater_or_equal less_or_e...</td>\n      <td>The number of distinct taxonomies represented ...</td>\n    </tr>\n    <tr>\n      <th>303</th>\n      <td>rcsb_entry_info.polymer_molecular_weight_maximum</td>\n      <td>number</td>\n      <td>equals greater less greater_or_equal less_or_e...</td>\n      <td>The maximum molecular mass (KDa) of a polymer ...</td>\n    </tr>\n    <tr>\n      <th>304</th>\n      <td>rcsb_entry_info.polymer_molecular_weight_minimum</td>\n      <td>number</td>\n      <td>equals greater less greater_or_equal less_or_e...</td>\n      <td>The minimum molecular mass (KDa) of a polymer ...</td>\n    </tr>\n    <tr>\n      <th>305</th>\n      <td>rcsb_entry_info.polymer_monomer_count_maximum</td>\n      <td>integer</td>\n      <td>equals greater less greater_or_equal less_or_e...</td>\n      <td>The maximum monomer count of a polymer entity ...</td>\n    </tr>\n    <tr>\n      <th>306</th>\n      <td>rcsb_entry_info.polymer_monomer_count_minimum</td>\n      <td>integer</td>\n      <td>equals greater less greater_or_equal less_or_e...</td>\n      <td>The minimum monomer count of a polymer entity ...</td>\n    </tr>\n    <tr>\n      <th>307</th>\n      <td>rcsb_entry_info.resolution_combined</td>\n      <td>number</td>\n      <td>equals greater less greater_or_equal less_or_e...</td>\n      <td>Combined estimates of experimental resolution ...</td>\n    </tr>\n    <tr>\n      <th>308</th>\n      <td>rcsb_entry_info.selected_polymer_entity_types</td>\n      <td>string</td>\n      <td>in exact_match exists</td>\n      <td>Selected polymer entity type categories descri...</td>\n    </tr>\n    <tr>\n      <th>309</th>\n      <td>rcsb_entry_info.software_programs_combined</td>\n      <td>string</td>\n      <td>in exact_match exists</td>\n      <td>Combined list of software programs names repor...</td>\n    </tr>\n    <tr>\n      <th>310</th>\n      <td>rcsb_entry_info.solvent_entity_count</td>\n      <td>integer</td>\n      <td>equals greater less greater_or_equal less_or_e...</td>\n      <td>The number of distinct solvent entities per de...</td>\n    </tr>\n    <tr>\n      <th>311</th>\n      <td>rcsb_entry_info.structure_determination_method...</td>\n      <td>string</td>\n      <td>in exact_match exists</td>\n      <td>Indicates if the structure was determined usin...</td>\n    </tr>\n    <tr>\n      <th>312</th>\n      <td>rcsb_entry_info.structure_determination_method...</td>\n      <td>integer</td>\n      <td>equals greater less greater_or_equal less_or_e...</td>\n      <td>Indicates the priority of the value in _rcsb_e...</td>\n    </tr>\n    <tr>\n      <th>313</th>\n      <td>rcsb_entry_info.diffrn_resolution_high.value</td>\n      <td>number</td>\n      <td>equals greater less greater_or_equal less_or_e...</td>\n      <td>The high resolution limit of data collection.</td>\n    </tr>\n  </tbody>\n</table>\n</div>"
     },
     "execution_count": 21,
     "metadata": {},
     "output_type": "execute_result"
    }
   ],
   "source": [
    "filtered_df"
   ],
   "metadata": {
    "collapsed": false,
    "ExecuteTime": {
     "end_time": "2024-05-01T21:14:05.238364Z",
     "start_time": "2024-05-01T21:14:05.233231Z"
    }
   },
   "id": "14d82a7344a5b3b4",
   "execution_count": 21
  },
  {
   "cell_type": "code",
   "outputs": [
    {
     "data": {
      "text/plain": "20"
     },
     "execution_count": 12,
     "metadata": {},
     "output_type": "execute_result"
    }
   ],
   "source": [
    "len(text)"
   ],
   "metadata": {
    "collapsed": false,
    "ExecuteTime": {
     "end_time": "2024-05-01T21:09:24.145447Z",
     "start_time": "2024-05-01T21:09:24.138503Z"
    }
   },
   "id": "bb45e1edae55c774",
   "execution_count": 12
  },
  {
   "cell_type": "code",
   "outputs": [
    {
     "data": {
      "text/plain": "'rcsb_rcsb_entry_info'"
     },
     "execution_count": 13,
     "metadata": {},
     "output_type": "execute_result"
    }
   ],
   "source": [
    "text[:20]\n"
   ],
   "metadata": {
    "collapsed": false,
    "ExecuteTime": {
     "end_time": "2024-05-01T21:09:30.372938Z",
     "start_time": "2024-05-01T21:09:30.358877Z"
    }
   },
   "id": "768b8d33f1b1cc94",
   "execution_count": 13
  },
  {
   "cell_type": "code",
   "outputs": [],
   "source": [],
   "metadata": {
    "collapsed": false
   },
   "id": "dd8699d06cc72d58"
  }
 ],
 "metadata": {
  "kernelspec": {
   "display_name": "Python 3",
   "language": "python",
   "name": "python3"
  },
  "language_info": {
   "codemirror_mode": {
    "name": "ipython",
    "version": 2
   },
   "file_extension": ".py",
   "mimetype": "text/x-python",
   "name": "python",
   "nbconvert_exporter": "python",
   "pygments_lexer": "ipython2",
   "version": "2.7.6"
  }
 },
 "nbformat": 4,
 "nbformat_minor": 5
}
