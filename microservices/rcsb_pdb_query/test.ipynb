{
 "cells": [
  {
   "cell_type": "code",
   "execution_count": 1,
   "id": "initial_id",
   "metadata": {
    "collapsed": true,
    "ExecuteTime": {
     "end_time": "2024-02-29T00:16:31.274539Z",
     "start_time": "2024-02-29T00:16:31.255277Z"
    }
   },
   "outputs": [],
   "source": [
    "import requests\n",
    "\n",
    "def fetch_fasta_files_by_ids(pdb_ids):\n",
    "    base_url = \"https://www.rcsb.org/fasta/entry/\"\n",
    "    pdb_base_link = \"https://www.rcsb.org/structure/\"\n",
    "    fasta_files_with_links = {}\n",
    "    \n",
    "    for pdb_id in pdb_ids:\n",
    "        fasta_response = requests.get(f\"{base_url}{pdb_id}\")\n",
    "        if fasta_response.status_code == 200:\n",
    "            fasta_files_with_links[pdb_id] = {\n",
    "                'fasta': fasta_response.text,\n",
    "                'link': f\"{pdb_base_link}{pdb_id}\"\n",
    "            }\n",
    "        else:\n",
    "            print(f\"Failed to fetch FASTA for ID: {pdb_id}\")\n",
    "    \n",
    "    return fasta_files_with_links\n"
   ]
  },
  {
   "cell_type": "code",
   "outputs": [
    {
     "data": {
      "text/plain": "'>7NB4_1|Chain A|Induced myeloid leukemia cell differentiation protein Mcl-1|Homo sapiens (9606)\\nMHHHHHHLVPRGSEDELYRQSLEIISRYLREQATGAKDTKPMGRSGATSRKALETLRRVGDGVQRNHETAFQGMLRKLDIKNEDDVKSLSRVMIHVFSDGVTNWGRIVTLISFGAFVAKHLKTINQESCIEPLAESITDVLVRTKRDWLVKQRGWDGFVEFFHVEDLEGG\\n'"
     },
     "execution_count": 3,
     "metadata": {},
     "output_type": "execute_result"
    }
   ],
   "source": [
    "fetch_fasta_files_by_ids(['7nb4'])[0]"
   ],
   "metadata": {
    "collapsed": false,
    "ExecuteTime": {
     "end_time": "2024-02-29T00:17:03.678679Z",
     "start_time": "2024-02-29T00:17:03.378828Z"
    }
   },
   "id": "a41ba4f82530d60b",
   "execution_count": 3
  },
  {
   "cell_type": "code",
   "outputs": [],
   "source": [
    "def search_pdb_by_string(search_string, rows=10):\n",
    "    search_url = \"https://search.rcsb.org/rcsbsearch/v2/query\"\n",
    "    query = {\n",
    "      \"query\": {\n",
    "        \"type\": \"terminal\",\n",
    "        \"service\": \"full_text\",\n",
    "        \"parameters\": {\n",
    "          \"value\": search_string\n",
    "        }\n",
    "      },\n",
    "      \"return_type\": \"entry\"\n",
    "    }\n",
    "    \n",
    "    response = requests.post(search_url, json=query)\n",
    "    if response.status_code == 200:\n",
    "        search_results = response.json()\n",
    "        matches = search_results.get('result_set', [])\n",
    "        best_matches = [match['identifier'] for match in matches[:rows]]\n",
    "        return best_matches\n",
    "    else:\n",
    "        print(\"Search failed.\", response.text)\n",
    "        return []"
   ],
   "metadata": {
    "collapsed": false,
    "ExecuteTime": {
     "end_time": "2024-02-29T00:42:06.782388Z",
     "start_time": "2024-02-29T00:42:06.779474Z"
    }
   },
   "id": "7a0c22191b742a48",
   "execution_count": 15
  },
  {
   "cell_type": "code",
   "outputs": [
    {
     "data": {
      "text/plain": "['7MT8',\n '7MT9',\n '6SQG',\n '1H2S',\n '3AM6',\n '1H68',\n '7MTA',\n '7MTB',\n '2ZIY',\n '6I9K']"
     },
     "execution_count": 16,
     "metadata": {},
     "output_type": "execute_result"
    }
   ],
   "source": [
    "search_pdb_by_string('rhodopsin')"
   ],
   "metadata": {
    "collapsed": false,
    "ExecuteTime": {
     "end_time": "2024-02-29T00:42:07.826574Z",
     "start_time": "2024-02-29T00:42:07.499234Z"
    }
   },
   "id": "d5af1fd5a82cd538",
   "execution_count": 16
  },
  {
   "cell_type": "code",
   "outputs": [],
   "source": [],
   "metadata": {
    "collapsed": false
   },
   "id": "db42aacdfc47b9c2"
  }
 ],
 "metadata": {
  "kernelspec": {
   "display_name": "Python 3",
   "language": "python",
   "name": "python3"
  },
  "language_info": {
   "codemirror_mode": {
    "name": "ipython",
    "version": 2
   },
   "file_extension": ".py",
   "mimetype": "text/x-python",
   "name": "python",
   "nbconvert_exporter": "python",
   "pygments_lexer": "ipython2",
   "version": "2.7.6"
  }
 },
 "nbformat": 4,
 "nbformat_minor": 5
}
